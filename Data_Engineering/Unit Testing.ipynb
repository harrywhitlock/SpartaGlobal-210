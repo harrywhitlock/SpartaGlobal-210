{
 "cells": [
  {
   "cell_type": "markdown",
   "id": "30ccd24f",
   "metadata": {},
   "source": [
    "TDD: test driven development\n",
    "\n",
    "write the test first then write the code\n",
    "\n",
    "red &rarr; green &rarr; refactor\n",
    "\n",
    "pytest\n"
   ]
  },
  {
   "cell_type": "code",
   "execution_count": null,
   "id": "232e8afc",
   "metadata": {},
   "outputs": [],
   "source": []
  }
 ],
 "metadata": {
  "kernelspec": {
   "display_name": "Python 3 (ipykernel)",
   "language": "python",
   "name": "python3"
  },
  "language_info": {
   "codemirror_mode": {
    "name": "ipython",
    "version": 3
   },
   "file_extension": ".py",
   "mimetype": "text/x-python",
   "name": "python",
   "nbconvert_exporter": "python",
   "pygments_lexer": "ipython3",
   "version": "3.10.9"
  }
 },
 "nbformat": 4,
 "nbformat_minor": 5
}
