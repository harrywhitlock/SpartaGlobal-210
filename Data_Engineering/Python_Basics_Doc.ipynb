{
 "cells": [
  {
   "cell_type": "markdown",
   "id": "56e3c831",
   "metadata": {},
   "source": [
    "# Python Basics Document\n"
   ]
  },
  {
   "cell_type": "markdown",
   "id": "172e11cc",
   "metadata": {},
   "source": [
    "## Data Types\n"
   ]
  },
  {
   "cell_type": "code",
   "execution_count": 3,
   "id": "45dc5254",
   "metadata": {},
   "outputs": [
    {
     "name": "stdout",
     "output_type": "stream",
     "text": [
      "<class 'int'>\n",
      "<class 'float'>\n",
      "<class 'bool'>\n",
      "<class 'str'>\n"
     ]
    }
   ],
   "source": [
    "print(type(5))\n",
    "print(type(5.5))\n",
    "print(type(True))\n",
    "print(type('string'))"
   ]
  },
  {
   "cell_type": "markdown",
   "id": "1b608746",
   "metadata": {},
   "source": [
    "```+``` : Add\n",
    "```-``` : Subtract\n",
    "```*``` : Multiply\n",
    "```/``` : Division\n",
    "```//``` : Floor Division\n",
    "```%``` : Modulo\n"
   ]
  },
  {
   "cell_type": "code",
   "execution_count": 7,
   "id": "69127939",
   "metadata": {},
   "outputs": [
    {
     "name": "stdout",
     "output_type": "stream",
     "text": [
      "a\n",
      "a\n"
     ]
    }
   ],
   "source": [
    "print('a')\n",
    "print(u'\\u0061')"
   ]
  },
  {
   "cell_type": "code",
   "execution_count": 8,
   "id": "b4961139",
   "metadata": {},
   "outputs": [
    {
     "name": "stdout",
     "output_type": "stream",
     "text": [
      "hello world\n",
      "e\n"
     ]
    }
   ],
   "source": [
    "print('hello world')\n",
    "print('hello world'[1]) #Prints character in the 1 position"
   ]
  },
  {
   "cell_type": "markdown",
   "id": "e46f4bc2",
   "metadata": {},
   "source": [
    "## Bools"
   ]
  },
  {
   "cell_type": "code",
   "execution_count": 10,
   "id": "0d395b2f",
   "metadata": {},
   "outputs": [
    {
     "name": "stdout",
     "output_type": "stream",
     "text": [
      "True\n",
      "False\n",
      "False\n"
     ]
    }
   ],
   "source": [
    "print(4 == 4)\n",
    "print(3 == 4)\n",
    "print(2 == len('2'))"
   ]
  },
  {
   "cell_type": "markdown",
   "id": "fe70aeb3",
   "metadata": {},
   "source": [
    "```1``` is true, any other value is false"
   ]
  },
  {
   "cell_type": "markdown",
   "id": "8bd3b844",
   "metadata": {},
   "source": [
    "Vaiables cannot be literals (core data types: numbers, string, bools)"
   ]
  },
  {
   "cell_type": "markdown",
   "id": "26309ae9",
   "metadata": {},
   "source": [
    "## Concatination"
   ]
  },
  {
   "cell_type": "code",
   "execution_count": 14,
   "id": "9469bc1c",
   "metadata": {},
   "outputs": [
    {
     "name": "stdout",
     "output_type": "stream",
     "text": [
      "jane doe, 25\n",
      "someone said \"Text can be tricky\"\n"
     ]
    }
   ],
   "source": [
    "first_name = 'jane'\n",
    "last_name = 'doe'\n",
    "full_name = first_name + ' ' + last_name\n",
    "age = 25\n",
    "print(full_name + ',', str(age))\n",
    "print('someone said \\\"Text can be tricky\"')"
   ]
  },
  {
   "cell_type": "markdown",
   "id": "e09e8f1c",
   "metadata": {},
   "source": [
    "## Methods"
   ]
  },
  {
   "cell_type": "code",
   "execution_count": 22,
   "id": "fc8d505b",
   "metadata": {},
   "outputs": [
    {
     "name": "stdout",
     "output_type": "stream",
     "text": [
      "JANE\n",
      "Jane\n",
      "june\n"
     ]
    }
   ],
   "source": [
    "print(first_name.upper())\n",
    "print(first_name.capitalize())\n",
    "print(first_name.replace('a', 'u'))"
   ]
  },
  {
   "cell_type": "markdown",
   "id": "874d7ae1",
   "metadata": {},
   "source": [
    "## Control Flow "
   ]
  },
  {
   "cell_type": "code",
   "execution_count": 26,
   "id": "0231c694",
   "metadata": {},
   "outputs": [
    {
     "name": "stdout",
     "output_type": "stream",
     "text": [
      "u, PG, 12, 15\n"
     ]
    }
   ],
   "source": [
    "customerAge = 15\n",
    "if customerAge <= 12:\n",
    "    print('U, PG, 12')\n",
    "elif customerAge <= 15:\n",
    "    print('u, PG, 12, 15')\n",
    "else:\n",
    "    print('All films')\n"
   ]
  },
  {
   "cell_type": "code",
   "execution_count": 28,
   "id": "916c37ce",
   "metadata": {},
   "outputs": [
    {
     "name": "stdout",
     "output_type": "stream",
     "text": [
      "Morning\n"
     ]
    }
   ],
   "source": [
    "timeOfDay = 6\n",
    "\n",
    "if timeOfDay > 5 and timeOfDay < 12:\n",
    "    print('Morning')\n",
    "elif timeOfDay > 12 and timeOfDay < 18:\n",
    "    print('Afternoon')\n",
    "else:\n",
    "    print('Evening')"
   ]
  },
  {
   "cell_type": "code",
   "execution_count": 30,
   "id": "208cfc6f",
   "metadata": {},
   "outputs": [
    {
     "name": "stdout",
     "output_type": "stream",
     "text": [
      "true\n"
     ]
    }
   ],
   "source": [
    "list = [1, 'true', True]\n",
    "print(list[1])\n",
    "\n",
    "shoppingList = ['eggs', 'bread', 'cheese']\n",
    "shoppingList[1] ='bannana' "
   ]
  },
  {
   "cell_type": "code",
   "execution_count": 34,
   "id": "ecef53fe",
   "metadata": {},
   "outputs": [
    {
     "name": "stdout",
     "output_type": "stream",
     "text": [
      "['eggs', 'cheese', 'mushrooms']\n"
     ]
    }
   ],
   "source": [
    "shoppingList = ['eggs', 'bread', 'cheese']\n",
    "shoppingList.append('mushrooms') #adds mushrooms\n",
    "shoppingList.pop(1) #Removed item in place 1\n",
    "print(shoppingList)\n",
    "shoppingList.index('bread') #Returns index of bread"
   ]
  },
  {
   "cell_type": "markdown",
   "id": "abdf599d",
   "metadata": {},
   "source": [
    "## Dictionaries\n"
   ]
  },
  {
   "cell_type": "markdown",
   "id": "a79b4f5d",
   "metadata": {},
   "source": [
    "Creates data in pairs, keys and values"
   ]
  },
  {
   "cell_type": "code",
   "execution_count": 38,
   "id": "aad41ebe",
   "metadata": {},
   "outputs": [
    {
     "name": "stdout",
     "output_type": "stream",
     "text": [
      "07123456789\n"
     ]
    }
   ],
   "source": [
    "contactList = {\n",
    "    'jane': '07123456789'\n",
    "}\n",
    "print(contactList['jane'])\n",
    "\n",
    "contactList['bob'] = '0712345678' #adds another key value pair"
   ]
  },
  {
   "cell_type": "markdown",
   "id": "d62fbff2",
   "metadata": {},
   "source": [
    "### Dictionary methods "
   ]
  },
  {
   "cell_type": "markdown",
   "id": "4723c98f",
   "metadata": {},
   "source": [
    "```list.values()``` returns all values, ```list.keys()``` reutrns all keys"
   ]
  },
  {
   "cell_type": "code",
   "execution_count": 44,
   "id": "545e3ab6",
   "metadata": {},
   "outputs": [
    {
     "name": "stdout",
     "output_type": "stream",
     "text": [
      "dict_keys(['bob', 'bill'])\n"
     ]
    }
   ],
   "source": [
    "list = {\n",
    "    'a':{'ann': '0789342332'},\n",
    "    'b':{'bob': '079797878',\n",
    "        'bill': '0788888888'}\n",
    "}\n",
    "print(list['b'].keys())"
   ]
  },
  {
   "cell_type": "markdown",
   "id": "ee1fc0ee",
   "metadata": {},
   "source": [
    "## Loops"
   ]
  },
  {
   "cell_type": "code",
   "execution_count": null,
   "id": "ae55f1eb",
   "metadata": {},
   "outputs": [],
   "source": [
    "loop_control = False\n",
    "while loop_control:\n",
    "    print('in loop')"
   ]
  },
  {
   "cell_type": "code",
   "execution_count": null,
   "id": "c2fa9e40",
   "metadata": {},
   "outputs": [],
   "source": [
    "counter = 0\n",
    "\n",
    "while counter < 10:\n",
    "    print(counter)\n",
    "    counter += 1"
   ]
  },
  {
   "cell_type": "code",
   "execution_count": null,
   "id": "36f677e9",
   "metadata": {},
   "outputs": [],
   "source": []
  }
 ],
 "metadata": {
  "kernelspec": {
   "display_name": "Python 3 (ipykernel)",
   "language": "python",
   "name": "python3"
  },
  "language_info": {
   "codemirror_mode": {
    "name": "ipython",
    "version": 3
   },
   "file_extension": ".py",
   "mimetype": "text/x-python",
   "name": "python",
   "nbconvert_exporter": "python",
   "pygments_lexer": "ipython3",
   "version": "3.10.9"
  }
 },
 "nbformat": 4,
 "nbformat_minor": 5
}
