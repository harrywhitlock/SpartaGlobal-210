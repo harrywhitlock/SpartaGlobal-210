{
 "cells": [
  {
   "cell_type": "code",
   "execution_count": 40,
   "id": "a64cd24d",
   "metadata": {},
   "outputs": [
    {
     "name": "stdout",
     "output_type": "stream",
     "text": [
      "\"The two most important days in your life are the day you are born and the day you find out why.\" – Mark Twain.\n",
      "\n",
      "To the mind that is still, the whole universe surrenders. - Lao Tzu\n",
      "\n",
      "Be curious, not judgmental.   Walt Whitman\n"
     ]
    }
   ],
   "source": [
    "filename = \"sample.txt\"\n",
    "\n",
    "file = open(filename)\n",
    "text = file.read()\n",
    "\n",
    "print(text)"
   ]
  },
  {
   "cell_type": "code",
   "execution_count": 41,
   "id": "539d2f5a",
   "metadata": {},
   "outputs": [
    {
     "name": "stdout",
     "output_type": "stream",
     "text": [
      "\"The two most important days in your life are the day you are born and the day you find out why.\" – Mark Twain.\n",
      "\n",
      "To the mind that is still, the whole universe surrenders. - Lao Tzu\n",
      "\n",
      "Be curious, not judgmental.   Walt Whitman\n"
     ]
    }
   ],
   "source": [
    "try:\n",
    "    with open(filename) as file:\n",
    "        print(file.read())\n",
    "        \n",
    "except:\n",
    "    print('the file counld not be read')"
   ]
  },
  {
   "cell_type": "code",
   "execution_count": 43,
   "id": "e890a5f9",
   "metadata": {},
   "outputs": [
    {
     "ename": "NameError",
     "evalue": "name 'FileNotFound' is not defined",
     "output_type": "error",
     "traceback": [
      "\u001b[0;31m---------------------------------------------------------------------------\u001b[0m",
      "\u001b[0;31mNameError\u001b[0m                                 Traceback (most recent call last)",
      "Cell \u001b[0;32mIn[43], line 2\u001b[0m\n\u001b[1;32m      1\u001b[0m \u001b[38;5;28;01mtry\u001b[39;00m:\n\u001b[0;32m----> 2\u001b[0m     \u001b[38;5;28;01mwith\u001b[39;00m \u001b[38;5;28mopen\u001b[39m(\u001b[43mfilename1\u001b[49m) \u001b[38;5;28;01mas\u001b[39;00m file:\n\u001b[1;32m      3\u001b[0m         \u001b[38;5;28mprint\u001b[39m(file\u001b[38;5;241m.\u001b[39mread())\n",
      "\u001b[0;31mNameError\u001b[0m: name 'filename1' is not defined",
      "\nDuring handling of the above exception, another exception occurred:\n",
      "\u001b[0;31mNameError\u001b[0m                                 Traceback (most recent call last)",
      "Cell \u001b[0;32mIn[43], line 5\u001b[0m\n\u001b[1;32m      2\u001b[0m     \u001b[38;5;28;01mwith\u001b[39;00m \u001b[38;5;28mopen\u001b[39m(filename1) \u001b[38;5;28;01mas\u001b[39;00m file:\n\u001b[1;32m      3\u001b[0m         \u001b[38;5;28mprint\u001b[39m(file\u001b[38;5;241m.\u001b[39mread())\n\u001b[0;32m----> 5\u001b[0m \u001b[38;5;28;01mexcept\u001b[39;00m \u001b[43mFileNotFound\u001b[49m:\n\u001b[1;32m      6\u001b[0m     \u001b[38;5;28mprint\u001b[39m(\u001b[38;5;124m'\u001b[39m\u001b[38;5;124mthe file counld not be read\u001b[39m\u001b[38;5;124m'\u001b[39m)\n",
      "\u001b[0;31mNameError\u001b[0m: name 'FileNotFound' is not defined"
     ]
    }
   ],
   "source": [
    "try:\n",
    "    with open(filename1) as file:\n",
    "        print(file.read())\n",
    "        \n",
    "except FileNotFound:\n",
    "    print('the file counld not be read')"
   ]
  },
  {
   "cell_type": "code",
   "execution_count": 31,
   "id": "a6aa5f84",
   "metadata": {},
   "outputs": [],
   "source": []
  },
  {
   "cell_type": "code",
   "execution_count": 32,
   "id": "e794fe48",
   "metadata": {},
   "outputs": [],
   "source": []
  },
  {
   "cell_type": "code",
   "execution_count": null,
   "id": "8f9166f9",
   "metadata": {},
   "outputs": [],
   "source": []
  }
 ],
 "metadata": {
  "kernelspec": {
   "display_name": "Python 3 (ipykernel)",
   "language": "python",
   "name": "python3"
  },
  "language_info": {
   "codemirror_mode": {
    "name": "ipython",
    "version": 3
   },
   "file_extension": ".py",
   "mimetype": "text/x-python",
   "name": "python",
   "nbconvert_exporter": "python",
   "pygments_lexer": "ipython3",
   "version": "3.10.9"
  }
 },
 "nbformat": 4,
 "nbformat_minor": 5
}
