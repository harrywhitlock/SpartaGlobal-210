{
 "cells": [
  {
   "cell_type": "code",
   "execution_count": 3,
   "id": "cfba3106",
   "metadata": {},
   "outputs": [],
   "source": [
    "class Car():\n",
    "    pass"
   ]
  },
  {
   "cell_type": "code",
   "execution_count": 4,
   "id": "4ba1a83d",
   "metadata": {},
   "outputs": [
    {
     "data": {
      "text/plain": [
       "<__main__.Car at 0x118ebea70>"
      ]
     },
     "execution_count": 4,
     "metadata": {},
     "output_type": "execute_result"
    }
   ],
   "source": [
    "my_first_object = Car()\n",
    "my_first_object"
   ]
  },
  {
   "cell_type": "code",
   "execution_count": 27,
   "id": "84390402",
   "metadata": {},
   "outputs": [],
   "source": [
    "class Dog():\n",
    "    \n",
    "    \"\"\"this is a dog class\"\"\"\n",
    "    \n",
    "    def __init__(self, name=\"Kenji\", breed=\"Shiba Inu\"):\n",
    "        #Attributes\n",
    "        self.name = name\n",
    "        self.breed = breed"
   ]
  },
  {
   "cell_type": "code",
   "execution_count": 28,
   "id": "4a8519e3",
   "metadata": {},
   "outputs": [
    {
     "data": {
      "text/plain": [
       "'Kenji'"
      ]
     },
     "execution_count": 28,
     "metadata": {},
     "output_type": "execute_result"
    }
   ],
   "source": [
    "my_dog = Dog(\"Kenji\", \"Shiba Inu\")\n",
    "my_dog.name"
   ]
  },
  {
   "cell_type": "code",
   "execution_count": 26,
   "id": "81f41fb0",
   "metadata": {},
   "outputs": [
    {
     "data": {
      "text/plain": [
       "'Shiba Inu'"
      ]
     },
     "execution_count": 26,
     "metadata": {},
     "output_type": "execute_result"
    }
   ],
   "source": [
    "my_dog.breed"
   ]
  },
  {
   "cell_type": "code",
   "execution_count": 29,
   "id": "4b27f55b",
   "metadata": {},
   "outputs": [],
   "source": [
    "my_dog = Dog(\"shakti\", \"lab\")"
   ]
  },
  {
   "cell_type": "code",
   "execution_count": 30,
   "id": "136e00e4",
   "metadata": {},
   "outputs": [
    {
     "data": {
      "text/plain": [
       "'lab'"
      ]
     },
     "execution_count": 30,
     "metadata": {},
     "output_type": "execute_result"
    }
   ],
   "source": [
    "my_dog.breed\n"
   ]
  },
  {
   "cell_type": "code",
   "execution_count": 31,
   "id": "d4b909fc",
   "metadata": {},
   "outputs": [],
   "source": [
    "class Dog():\n",
    "    \n",
    "    \"\"\"this is a dog class\"\"\"\n",
    "    \n",
    "    animal_kind = 'Canine'\n",
    "    \n",
    "    \n",
    "    def __init__(self, name=\"Kenji\", breed=\"Shiba Inu\"):\n",
    "        #Attributes\n",
    "        self.name = name\n",
    "        self.breed = breed"
   ]
  },
  {
   "cell_type": "code",
   "execution_count": 34,
   "id": "1bca8c5f",
   "metadata": {},
   "outputs": [
    {
     "data": {
      "text/plain": [
       "'Canine'"
      ]
     },
     "execution_count": 34,
     "metadata": {},
     "output_type": "execute_result"
    }
   ],
   "source": [
    "my_dog2 = Dog()\n",
    "my_dog2.animal_kind"
   ]
  },
  {
   "cell_type": "code",
   "execution_count": 48,
   "id": "7438d94f",
   "metadata": {},
   "outputs": [],
   "source": [
    "class Dog():\n",
    "    \n",
    "    \"\"\"this is a dog class\"\"\"\n",
    "    \n",
    "    animal_kind = 'Canine'\n",
    "    \n",
    "    \n",
    "    def __init__(self, name=\"Kenji\", breed=\"Shiba Inu\"):\n",
    "        #Attributes\n",
    "        self.name = name\n",
    "        self.breed = breed\n",
    "        \n",
    "    def bark(self, age):\n",
    "        \"\"\"this is a method\"\"\"\n",
    "        print('Woof and my name is {} and my age is {}'.format(self.name, age))\n",
    "    "
   ]
  },
  {
   "cell_type": "code",
   "execution_count": 36,
   "id": "4dfe7e2c",
   "metadata": {},
   "outputs": [
    {
     "ename": "AttributeError",
     "evalue": "'Dog' object has no attribute 'bark'",
     "output_type": "error",
     "traceback": [
      "\u001b[0;31m---------------------------------------------------------------------------\u001b[0m",
      "\u001b[0;31mAttributeError\u001b[0m                            Traceback (most recent call last)",
      "Cell \u001b[0;32mIn[36], line 1\u001b[0m\n\u001b[0;32m----> 1\u001b[0m \u001b[43mmy_dog\u001b[49m\u001b[38;5;241;43m.\u001b[39;49m\u001b[43mbark\u001b[49m\n",
      "\u001b[0;31mAttributeError\u001b[0m: 'Dog' object has no attribute 'bark'"
     ]
    }
   ],
   "source": [
    "my_dog.bark"
   ]
  },
  {
   "cell_type": "code",
   "execution_count": 50,
   "id": "8cae392c",
   "metadata": {},
   "outputs": [],
   "source": [
    "my_dog3 = Dog(name=\"shakti\", breed=\"lab\")"
   ]
  },
  {
   "cell_type": "code",
   "execution_count": 52,
   "id": "64b96937",
   "metadata": {},
   "outputs": [
    {
     "name": "stdout",
     "output_type": "stream",
     "text": [
      "Woof and my name is shakti and my age is 56\n"
     ]
    }
   ],
   "source": [
    "my_dog3.bark(56)"
   ]
  },
  {
   "cell_type": "code",
   "execution_count": 75,
   "id": "b02bdb70",
   "metadata": {},
   "outputs": [],
   "source": [
    "class Circle():\n",
    "    \n",
    "    pi = 3.14\n",
    "    \n",
    "    def __init__(self, radius):\n",
    "        self.radius = radius\n",
    "        \n",
    "    def calculate_area(self):\n",
    "        return self.radius*2*pi\n",
    "    \n"
   ]
  },
  {
   "cell_type": "markdown",
   "id": "d13255b4",
   "metadata": {},
   "source": [
    "#Inhertance and polymorphism "
   ]
  },
  {
   "cell_type": "code",
   "execution_count": 73,
   "id": "50c5fb4e",
   "metadata": {},
   "outputs": [],
   "source": [
    "circle1 = Circle(5)"
   ]
  },
  {
   "cell_type": "code",
   "execution_count": 74,
   "id": "6511af11",
   "metadata": {},
   "outputs": [
    {
     "ename": "NameError",
     "evalue": "name 'pi' is not defined",
     "output_type": "error",
     "traceback": [
      "\u001b[0;31m---------------------------------------------------------------------------\u001b[0m",
      "\u001b[0;31mNameError\u001b[0m                                 Traceback (most recent call last)",
      "Cell \u001b[0;32mIn[74], line 1\u001b[0m\n\u001b[0;32m----> 1\u001b[0m \u001b[43mcircle1\u001b[49m\u001b[38;5;241;43m.\u001b[39;49m\u001b[43mcalculate_area\u001b[49m\u001b[43m(\u001b[49m\u001b[43m)\u001b[49m\n",
      "Cell \u001b[0;32mIn[69], line 9\u001b[0m, in \u001b[0;36mCircle.calculate_area\u001b[0;34m(self)\u001b[0m\n\u001b[1;32m      8\u001b[0m \u001b[38;5;28;01mdef\u001b[39;00m \u001b[38;5;21mcalculate_area\u001b[39m(\u001b[38;5;28mself\u001b[39m):\n\u001b[0;32m----> 9\u001b[0m     \u001b[38;5;28;01mreturn\u001b[39;00m \u001b[38;5;28mself\u001b[39m\u001b[38;5;241m.\u001b[39mradius\u001b[38;5;241m*\u001b[39m\u001b[38;5;241m2\u001b[39m\u001b[38;5;241m*\u001b[39m\u001b[43mpi\u001b[49m\n",
      "\u001b[0;31mNameError\u001b[0m: name 'pi' is not defined"
     ]
    }
   ],
   "source": [
    "circle1.calculate_area()"
   ]
  },
  {
   "cell_type": "code",
   "execution_count": 101,
   "id": "72c7f85e",
   "metadata": {},
   "outputs": [],
   "source": [
    "class Circle2():\n",
    "    \n",
    "    pi = 3.14\n",
    "       \n",
    "    def __init__(self, radius):\n",
    "        self.radius = radius\n",
    "        \n",
    "    def calculate_area(self):\n",
    "        return self.radius * self.radius * Circle2.pi\n",
    "    \n",
    "    def calculate_perimeter(self):\n",
    "        return 2 * Circle2.pi * self.radius"
   ]
  },
  {
   "cell_type": "code",
   "execution_count": 102,
   "id": "df726d1c",
   "metadata": {},
   "outputs": [
    {
     "name": "stdout",
     "output_type": "stream",
     "text": [
      "31.400000000000002\n",
      "78.5\n"
     ]
    }
   ],
   "source": [
    "circle1 = Circle2(5)\n",
    "\n",
    "print(circle1.calculate_perimeter())\n",
    "print(circle1.calculate_area())"
   ]
  },
  {
   "cell_type": "markdown",
   "id": "32412a9c",
   "metadata": {},
   "source": [
    "# Inhertance and polymorphism"
   ]
  },
  {
   "cell_type": "code",
   "execution_count": 103,
   "id": "48165f99",
   "metadata": {},
   "outputs": [],
   "source": [
    "class Animal():\n",
    "    def __init__(self):\n",
    "        print('Animal created')\n",
    "    \n",
    "    def who_am_i(self):\n",
    "        print('I\\'m an animal')"
   ]
  },
  {
   "cell_type": "code",
   "execution_count": 110,
   "id": "ae717304",
   "metadata": {},
   "outputs": [],
   "source": [
    "class Dog(Animal):\n",
    "    \n",
    "    def who_am_i(self):\n",
    "        print('I\\'m a dog')"
   ]
  },
  {
   "cell_type": "code",
   "execution_count": 111,
   "id": "18d011ce",
   "metadata": {},
   "outputs": [
    {
     "name": "stdout",
     "output_type": "stream",
     "text": [
      "Animal created\n"
     ]
    }
   ],
   "source": [
    "my_dog = Dog()"
   ]
  },
  {
   "cell_type": "code",
   "execution_count": 112,
   "id": "64e2c3e4",
   "metadata": {},
   "outputs": [
    {
     "name": "stdout",
     "output_type": "stream",
     "text": [
      "I'm a dog\n"
     ]
    }
   ],
   "source": [
    "my_dog.who_am_i()"
   ]
  },
  {
   "cell_type": "code",
   "execution_count": 139,
   "id": "8f1bf984",
   "metadata": {},
   "outputs": [],
   "source": [
    "class Person:\n",
    "    def __init__(self, fname, lname):\n",
    "        self.firstname = fname\n",
    "        self.lastname = lname\n",
    "        \n",
    "    \n",
    "    def printname(self):\n",
    "        print(self.firstname, self.lastname)\n",
    "\n",
    "class Student(Person):\n",
    "    pass\n",
    "\n",
    "x = Student(fname='alan',lname='gulle')\n",
    "\n"
   ]
  },
  {
   "cell_type": "code",
   "execution_count": 140,
   "id": "660b8f43",
   "metadata": {},
   "outputs": [
    {
     "name": "stdout",
     "output_type": "stream",
     "text": [
      "alan gulle\n"
     ]
    }
   ],
   "source": [
    "x.printname()"
   ]
  },
  {
   "cell_type": "code",
   "execution_count": 156,
   "id": "a8242641",
   "metadata": {},
   "outputs": [],
   "source": [
    "class Dog():\n",
    "    def __init__(self,name):\n",
    "        self.name = name\n",
    "    def speak(self):\n",
    "        return self.name + ' says woof!'"
   ]
  },
  {
   "cell_type": "code",
   "execution_count": 157,
   "id": "2e5c5391",
   "metadata": {},
   "outputs": [],
   "source": [
    "class Cat():\n",
    "    def __init__(self,name):\n",
    "        self.name = name\n",
    "    def speak(self):\n",
    "        return self.name + ' says meow!'\n",
    "    "
   ]
  },
  {
   "cell_type": "code",
   "execution_count": 158,
   "id": "60442122",
   "metadata": {},
   "outputs": [
    {
     "data": {
      "text/plain": [
       "'Fluffy says woof!'"
      ]
     },
     "execution_count": 158,
     "metadata": {},
     "output_type": "execute_result"
    }
   ],
   "source": [
    "fluffy = Dog('Fluffy')\n",
    "sushi = Cat('Sushi')\n",
    "\n",
    "fluffy.speak()"
   ]
  },
  {
   "cell_type": "code",
   "execution_count": 159,
   "id": "61620a54",
   "metadata": {},
   "outputs": [
    {
     "data": {
      "text/plain": [
       "'Sushi says meow!'"
      ]
     },
     "execution_count": 159,
     "metadata": {},
     "output_type": "execute_result"
    }
   ],
   "source": [
    "sushi.speak()"
   ]
  },
  {
   "cell_type": "code",
   "execution_count": 160,
   "id": "8c5cdef4",
   "metadata": {},
   "outputs": [],
   "source": [
    "def pet_speak(pet):\n",
    "    print(pet.speak())"
   ]
  },
  {
   "cell_type": "code",
   "execution_count": 161,
   "id": "6b087cd2",
   "metadata": {},
   "outputs": [
    {
     "name": "stdout",
     "output_type": "stream",
     "text": [
      "Fluffy says woof!\n",
      "Sushi says meow!\n"
     ]
    }
   ],
   "source": [
    "for pet in [fluffy, sushi]:\n",
    "    pet_speak(pet)"
   ]
  },
  {
   "cell_type": "code",
   "execution_count": null,
   "id": "0e691f89",
   "metadata": {},
   "outputs": [],
   "source": []
  }
 ],
 "metadata": {
  "kernelspec": {
   "display_name": "Python 3 (ipykernel)",
   "language": "python",
   "name": "python3"
  },
  "language_info": {
   "codemirror_mode": {
    "name": "ipython",
    "version": 3
   },
   "file_extension": ".py",
   "mimetype": "text/x-python",
   "name": "python",
   "nbconvert_exporter": "python",
   "pygments_lexer": "ipython3",
   "version": "3.10.9"
  }
 },
 "nbformat": 4,
 "nbformat_minor": 5
}
